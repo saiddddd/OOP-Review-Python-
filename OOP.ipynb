{
 "cells": [
  {
   "cell_type": "code",
   "execution_count": 1,
   "id": "840b36de",
   "metadata": {},
   "outputs": [],
   "source": [
    "#CREATE CLASS \n",
    "#CLASS VS INSTANCE"
   ]
  },
  {
   "cell_type": "code",
   "execution_count": 2,
   "id": "9c8f7910",
   "metadata": {},
   "outputs": [],
   "source": [
    "#CREATE CLASS"
   ]
  },
  {
   "cell_type": "code",
   "execution_count": 6,
   "id": "df200a56",
   "metadata": {},
   "outputs": [],
   "source": [
    "class SoftwareEngineer:\n",
    "    \n",
    "    def __init__(self, name, age, level, salary):\n",
    "        #instance attribute\n",
    "        self.name = name \n",
    "        self.age = age\n",
    "        self.level = level\n",
    "        self.salary = salary\n",
    "        "
   ]
  },
  {
   "cell_type": "code",
   "execution_count": 6,
   "id": "891aec37",
   "metadata": {},
   "outputs": [],
   "source": [
    "#instance\n",
    "se1 = SoftwareEngineer(\"Max\", 20, \"Junior\", 5000)"
   ]
  },
  {
   "cell_type": "code",
   "execution_count": 8,
   "id": "99f2db7d",
   "metadata": {},
   "outputs": [
    {
     "name": "stdout",
     "output_type": "stream",
     "text": [
      "Max 20\n"
     ]
    }
   ],
   "source": [
    "print(se1.name, se1.age)"
   ]
  },
  {
   "cell_type": "code",
   "execution_count": null,
   "id": "16c151ec",
   "metadata": {},
   "outputs": [],
   "source": []
  },
  {
   "cell_type": "code",
   "execution_count": 9,
   "id": "000afea4",
   "metadata": {},
   "outputs": [],
   "source": [
    "class SoftwareEngineer:\n",
    "    \n",
    "    #class attribute\n",
    "    alias = \"Keyboard Magician\"\n",
    "    \n",
    "    def __init__(self, name, age, level, salary):\n",
    "        #instance attribute\n",
    "        self.name = name \n",
    "        self.age = age\n",
    "        self.level = level\n",
    "        self.salary = salary\n",
    "        "
   ]
  },
  {
   "cell_type": "code",
   "execution_count": 29,
   "id": "f3b7eafa",
   "metadata": {},
   "outputs": [],
   "source": [
    "#instance\n",
    "se1 = SoftwareEngineer(\"Max\", 20, \"Junior\", 5000)"
   ]
  },
  {
   "cell_type": "code",
   "execution_count": 11,
   "id": "c801fe83",
   "metadata": {},
   "outputs": [
    {
     "name": "stdout",
     "output_type": "stream",
     "text": [
      "Keyboard Magician\n"
     ]
    }
   ],
   "source": [
    "print(se1.alias)"
   ]
  },
  {
   "cell_type": "code",
   "execution_count": 12,
   "id": "a13483f6",
   "metadata": {},
   "outputs": [
    {
     "name": "stdout",
     "output_type": "stream",
     "text": [
      "Keyboard Magician\n"
     ]
    }
   ],
   "source": [
    "print(SoftwareEngineer.alias)"
   ]
  },
  {
   "cell_type": "code",
   "execution_count": 13,
   "id": "81524382",
   "metadata": {},
   "outputs": [],
   "source": [
    "#recap\n",
    "#create a class (blueprint)\n",
    "#create a instance (object)\n",
    "#class vsinstance\n",
    "#instance attributes : defined in __init__(self)\n",
    "#class attribute"
   ]
  },
  {
   "cell_type": "code",
   "execution_count": null,
   "id": "90e87933",
   "metadata": {},
   "outputs": [],
   "source": []
  },
  {
   "cell_type": "code",
   "execution_count": 25,
   "id": "3ea9cbab",
   "metadata": {},
   "outputs": [],
   "source": [
    "class SoftwareEngineer:\n",
    "    \n",
    "    #class attribute\n",
    "    alias = \"Keyboard Magician\"\n",
    "    \n",
    "    def __init__(self, name, age, level, salary):\n",
    "        #instance attribute\n",
    "        self.name = name \n",
    "        self.age = age\n",
    "        self.level = level\n",
    "        self.salary = salary\n",
    "    \n",
    "    #instance method\n",
    "    def code(self):\n",
    "        print(f\"{self.name} is writing code...\")\n",
    "        \n",
    "    \n",
    "    def code_in_language(self, language):\n",
    "        print(f\"{self.name} is writing code in {language}...\")\n",
    "        \n",
    "    \n",
    "    def information(self):\n",
    "        information = f\"name = {self.name}, age = {self.age}, level = {self.level}\"\n",
    "        return information\n",
    "        "
   ]
  },
  {
   "cell_type": "code",
   "execution_count": 23,
   "id": "d8465064",
   "metadata": {},
   "outputs": [
    {
     "name": "stdout",
     "output_type": "stream",
     "text": [
      "Max is writing code...\n"
     ]
    }
   ],
   "source": [
    "se1.code()"
   ]
  },
  {
   "cell_type": "code",
   "execution_count": 24,
   "id": "8eb1244e",
   "metadata": {},
   "outputs": [
    {
     "name": "stdout",
     "output_type": "stream",
     "text": [
      "Max is writing code in Python...\n"
     ]
    }
   ],
   "source": [
    "se1.code_in_language(\"Python\")"
   ]
  },
  {
   "cell_type": "code",
   "execution_count": 27,
   "id": "1d7fca3e",
   "metadata": {},
   "outputs": [
    {
     "data": {
      "text/plain": [
       "'name = Max, age = 20, level = Junior'"
      ]
     },
     "execution_count": 27,
     "metadata": {},
     "output_type": "execute_result"
    }
   ],
   "source": [
    "se1.information()"
   ]
  },
  {
   "cell_type": "code",
   "execution_count": null,
   "id": "71a7d503",
   "metadata": {},
   "outputs": [],
   "source": []
  },
  {
   "cell_type": "code",
   "execution_count": 4,
   "id": "f1318d81",
   "metadata": {},
   "outputs": [],
   "source": [
    "class SoftwareEngineer:\n",
    "    \n",
    "    #class attribute\n",
    "    alias = \"Keyboard Magician\"\n",
    "    \n",
    "    def __init__(self, name, age, level, salary):\n",
    "        #instance attribute\n",
    "        self.name = name \n",
    "        self.age = age\n",
    "        self.level = level\n",
    "        self.salary = salary\n",
    "    \n",
    "    #instance method\n",
    "    def code(self):\n",
    "        print(f\"{self.name} is writing code...\")\n",
    "        \n",
    "    \n",
    "    def code_in_language(self, language):\n",
    "        print(f\"{self.name} is writing code in {language}...\")\n",
    "        \n",
    "    \n",
    "    #dunder method\n",
    "    def __str__(self):\n",
    "        information = f\"name = {self.name}, age = {self.age}, level = {self.level}\"\n",
    "        return information\n",
    "        \n",
    "    def __eq__(self, other):\n",
    "        return self.name == other.name and self.age == other.age\n",
    "    \n",
    "    \n",
    "    @staticmethod #decorator\n",
    "    def entry_salary(age):\n",
    "        if age < 25:\n",
    "            return 5000\n",
    "        if age < 30:\n",
    "            return 7000\n",
    "        else:\n",
    "            return 9000"
   ]
  },
  {
   "cell_type": "code",
   "execution_count": 7,
   "id": "5008bad8",
   "metadata": {},
   "outputs": [
    {
     "name": "stdout",
     "output_type": "stream",
     "text": [
      "name = Max, age = 20, level = Junior\n"
     ]
    }
   ],
   "source": [
    "print(se1)"
   ]
  },
  {
   "cell_type": "code",
   "execution_count": 8,
   "id": "dad2c60a",
   "metadata": {},
   "outputs": [],
   "source": [
    "#instance\n",
    "se1 = SoftwareEngineer(\"Max\", 20, \"Junior\", 5000)\n",
    "se2 = SoftwareEngineer(\"Max\", 20, \"Sunior\", 5000)"
   ]
  },
  {
   "cell_type": "code",
   "execution_count": 9,
   "id": "d1546069",
   "metadata": {},
   "outputs": [
    {
     "name": "stdout",
     "output_type": "stream",
     "text": [
      "True\n"
     ]
    }
   ],
   "source": [
    "print(se1 == se2)"
   ]
  },
  {
   "cell_type": "code",
   "execution_count": 39,
   "id": "e6ef21f1",
   "metadata": {},
   "outputs": [
    {
     "name": "stdout",
     "output_type": "stream",
     "text": [
      "9000\n"
     ]
    }
   ],
   "source": [
    "print(se1.entry_salary(78))"
   ]
  },
  {
   "cell_type": "code",
   "execution_count": 41,
   "id": "125a2de7",
   "metadata": {},
   "outputs": [],
   "source": [
    "#recap:\n",
    "#instance method(self)\n",
    "#can take arguments and can return values\n",
    "#special \"dunder\" method (__str__ and __eq__)\n",
    "#@staticmethod"
   ]
  },
  {
   "cell_type": "code",
   "execution_count": null,
   "id": "8af9bec4",
   "metadata": {},
   "outputs": [],
   "source": []
  },
  {
   "cell_type": "code",
   "execution_count": 2,
   "id": "ae0dfd8e",
   "metadata": {},
   "outputs": [],
   "source": [
    "#inherits, extend, override\n",
    "class Employee:\n",
    "    \n",
    "    def __init(self, name, age):\n",
    "        self.name = name\n",
    "        self.age = age \n",
    "        \n",
    "class SoftwareEngineer(Employee):\n",
    "    pass\n",
    "\n",
    "class Designer(Employee):\n",
    "    pass"
   ]
  },
  {
   "cell_type": "code",
   "execution_count": null,
   "id": "a0f0ecdd",
   "metadata": {},
   "outputs": [],
   "source": []
  },
  {
   "cell_type": "code",
   "execution_count": 10,
   "id": "2d7c3ba9",
   "metadata": {},
   "outputs": [
    {
     "name": "stdout",
     "output_type": "stream",
     "text": [
      "7\n",
      "FizzBuzz\n",
      "1\n",
      "2\n",
      "Fizz\n",
      "4\n",
      "Buzz\n",
      "Fizz\n",
      "7\n",
      "8\n",
      "Fizz\n",
      "Buzz\n",
      "11\n",
      "Fizz\n",
      "13\n",
      "14\n",
      "FizzBuzz\n",
      "16\n",
      "17\n",
      "Fizz\n",
      "19\n",
      "Buzz\n",
      "Fizz\n",
      "22\n",
      "23\n",
      "Fizz\n",
      "Buzz\n",
      "26\n",
      "Fizz\n",
      "28\n",
      "29\n",
      "FizzBuzz\n",
      "31\n",
      "32\n",
      "Fizz\n",
      "34\n",
      "Buzz\n",
      "Fizz\n",
      "37\n",
      "38\n",
      "Fizz\n",
      "Buzz\n",
      "41\n",
      "Fizz\n",
      "43\n",
      "44\n",
      "FizzBuzz\n",
      "46\n",
      "47\n",
      "Fizz\n",
      "49\n",
      "Buzz\n",
      "Fizz\n",
      "52\n",
      "53\n",
      "Fizz\n",
      "Buzz\n",
      "56\n",
      "Fizz\n",
      "58\n",
      "59\n",
      "FizzBuzz\n",
      "61\n",
      "62\n",
      "Fizz\n",
      "64\n",
      "Buzz\n",
      "Fizz\n",
      "67\n",
      "68\n",
      "Fizz\n",
      "Buzz\n",
      "71\n",
      "Fizz\n",
      "73\n",
      "74\n",
      "FizzBuzz\n",
      "76\n",
      "77\n",
      "Fizz\n",
      "79\n",
      "Buzz\n",
      "Fizz\n",
      "82\n",
      "83\n",
      "Fizz\n",
      "Buzz\n",
      "86\n",
      "Fizz\n",
      "88\n",
      "89\n",
      "FizzBuzz\n",
      "91\n",
      "92\n",
      "Fizz\n",
      "94\n",
      "Buzz\n",
      "Fizz\n",
      "97\n",
      "98\n",
      "Fizz\n"
     ]
    }
   ],
   "source": [
    "#!/bin/python3\n",
    "\n",
    "import math\n",
    "import os\n",
    "import random\n",
    "import re\n",
    "import sys\n",
    "\n",
    "\n",
    "\n",
    "#\n",
    "# Complete the 'fizzBuzz' function below.\n",
    "#\n",
    "# The function accepts INTEGER n as parameter.\n",
    "#\n",
    "\n",
    "def fizzBuzz(n):\n",
    "    for n in range(100):\n",
    "        print(\"FizzBuzz\"[n%-3&4:12&8-(n%-5&4)] or n)\n",
    "\n",
    "if __name__ == '__main__':\n",
    "    n = int(input().strip())\n",
    "\n",
    "    fizzBuzz(n)"
   ]
  },
  {
   "cell_type": "code",
   "execution_count": 22,
   "id": "eaa8c0ba",
   "metadata": {},
   "outputs": [],
   "source": [
    "#inherits, extend, override\n",
    "class Employee:\n",
    "    \n",
    "    def __init__(self, name, age):\n",
    "        self.name = name\n",
    "        self.age = age \n",
    "        \n",
    "    def work(self):\n",
    "        print(f\"{self.name} is working...\")\n",
    "        \n",
    "class SoftwareEngineer(Employee):\n",
    "    pass\n",
    "\n",
    "class Designer(Employee):\n",
    "    pass"
   ]
  },
  {
   "cell_type": "code",
   "execution_count": null,
   "id": "b1536569",
   "metadata": {},
   "outputs": [],
   "source": []
  },
  {
   "cell_type": "code",
   "execution_count": 51,
   "id": "603f0542",
   "metadata": {},
   "outputs": [],
   "source": [
    "#inherits, extend, override\n",
    "class Employee:\n",
    "    \n",
    "    def __init__(self, name, age, salary):\n",
    "        self.name = name\n",
    "        self.age = age \n",
    "        self.salary = salary\n",
    "        \n",
    "    def work(self):\n",
    "        print(f\"{self.name} is working...\")\n",
    "        \n",
    "class SoftwareEngineer(Employee):\n",
    "    #extend \n",
    "    \n",
    "    def __init__(self, name, age, salary, level):\n",
    "        #override\n",
    "        super().__init__(name, age, salary)\n",
    "        self.level = level\n",
    "        \n",
    "    def work(self):\n",
    "        print(f\"{self.name} is coding...\")\n",
    "        \n",
    "    def debug(self):\n",
    "        print(f\"{self.name} is debugging...\")\n",
    "      \n",
    "    \n",
    "class Designer(Employee):\n",
    "    \n",
    "    def draw(self):\n",
    "        print(f\"{self.name} is drawing...\")\n",
    "        \n",
    "    def work(self):\n",
    "        print(f\"{self.name} is designing...\")    "
   ]
  },
  {
   "cell_type": "code",
   "execution_count": 46,
   "id": "e3a6a24c",
   "metadata": {},
   "outputs": [],
   "source": [
    "se = SoftwareEngineer(\"Max\", 35, 9000, \"senior\")"
   ]
  },
  {
   "cell_type": "code",
   "execution_count": 36,
   "id": "c38100b6",
   "metadata": {},
   "outputs": [
    {
     "data": {
      "text/plain": [
       "('Max', 35, 'senior')"
      ]
     },
     "execution_count": 36,
     "metadata": {},
     "output_type": "execute_result"
    }
   ],
   "source": [
    "se.name, se.age, se.level"
   ]
  },
  {
   "cell_type": "code",
   "execution_count": 47,
   "id": "7c4a6ce2",
   "metadata": {},
   "outputs": [
    {
     "name": "stdout",
     "output_type": "stream",
     "text": [
      "Max is coding...\n"
     ]
    }
   ],
   "source": [
    "se.work()"
   ]
  },
  {
   "cell_type": "code",
   "execution_count": 42,
   "id": "58c2b92c",
   "metadata": {},
   "outputs": [
    {
     "ename": "AttributeError",
     "evalue": "'SoftwareEngineer' object has no attribute 'draw'",
     "output_type": "error",
     "traceback": [
      "\u001b[1;31m---------------------------------------------------------------------------\u001b[0m",
      "\u001b[1;31mAttributeError\u001b[0m                            Traceback (most recent call last)",
      "\u001b[1;32m<ipython-input-42-9957568e457a>\u001b[0m in \u001b[0;36m<module>\u001b[1;34m\u001b[0m\n\u001b[1;32m----> 1\u001b[1;33m \u001b[0mse\u001b[0m\u001b[1;33m.\u001b[0m\u001b[0mdraw\u001b[0m\u001b[1;33m(\u001b[0m\u001b[1;33m)\u001b[0m\u001b[1;33m\u001b[0m\u001b[1;33m\u001b[0m\u001b[0m\n\u001b[0m",
      "\u001b[1;31mAttributeError\u001b[0m: 'SoftwareEngineer' object has no attribute 'draw'"
     ]
    }
   ],
   "source": [
    "se.draw()"
   ]
  },
  {
   "cell_type": "code",
   "execution_count": 37,
   "id": "21369d82",
   "metadata": {},
   "outputs": [
    {
     "name": "stdout",
     "output_type": "stream",
     "text": [
      "Max is debugging...\n"
     ]
    }
   ],
   "source": [
    "se.debug()"
   ]
  },
  {
   "cell_type": "code",
   "execution_count": 40,
   "id": "dcebafd3",
   "metadata": {},
   "outputs": [],
   "source": [
    "d = Designer(\"Max\", 35, 9000)"
   ]
  },
  {
   "cell_type": "code",
   "execution_count": 41,
   "id": "5271b45b",
   "metadata": {},
   "outputs": [
    {
     "name": "stdout",
     "output_type": "stream",
     "text": [
      "Max is drawing...\n"
     ]
    }
   ],
   "source": [
    "d.draw()"
   ]
  },
  {
   "cell_type": "code",
   "execution_count": 48,
   "id": "5fe0fbbe",
   "metadata": {},
   "outputs": [],
   "source": [
    "#polymorphism"
   ]
  },
  {
   "cell_type": "code",
   "execution_count": 54,
   "id": "5fe63235",
   "metadata": {},
   "outputs": [],
   "source": [
    "employees = [SoftwareEngineer(\"Max\", 25, 6000, \"Junior\"), SoftwareEngineer(\"Lisa\", 30, 9000, \"Senior\"), Designer(\"Philip\", 27, 7000)]"
   ]
  },
  {
   "cell_type": "code",
   "execution_count": 55,
   "id": "8d743949",
   "metadata": {},
   "outputs": [],
   "source": [
    "def motivate_employees(employees):\n",
    "    for employee in employees:\n",
    "        employee.work()"
   ]
  },
  {
   "cell_type": "code",
   "execution_count": 56,
   "id": "852bfe45",
   "metadata": {},
   "outputs": [
    {
     "name": "stdout",
     "output_type": "stream",
     "text": [
      "Max is coding...\n",
      "Lisa is coding...\n",
      "Philip is designing...\n"
     ]
    }
   ],
   "source": [
    "motivate_employees(employees)"
   ]
  },
  {
   "cell_type": "code",
   "execution_count": 57,
   "id": "c3911f4c",
   "metadata": {},
   "outputs": [],
   "source": [
    "#recap\n",
    "#inheritance : ChildClass(BaseClass)\n",
    "#inherit, extend, override\n",
    "#super().__init__()\n",
    "#polymorphism"
   ]
  },
  {
   "cell_type": "code",
   "execution_count": null,
   "id": "c02d21e7",
   "metadata": {},
   "outputs": [],
   "source": []
  },
  {
   "cell_type": "code",
   "execution_count": null,
   "id": "1664e11c",
   "metadata": {},
   "outputs": [],
   "source": []
  },
  {
   "cell_type": "code",
   "execution_count": 58,
   "id": "d250d5da",
   "metadata": {},
   "outputs": [],
   "source": [
    "#encaplsulation"
   ]
  },
  {
   "cell_type": "code",
   "execution_count": 95,
   "id": "63891c70",
   "metadata": {},
   "outputs": [],
   "source": [
    "class SoftwareEngineer:\n",
    "    \n",
    "    def __init__(self, name, age):\n",
    "        self.name = name\n",
    "        self.age = age\n",
    "        self._salary = None #private sintax\n",
    "        \n",
    "        #_x is called a protected attribute\n",
    "        #__x is called a private attribute\n",
    "        \n",
    "        self._num_bugs_solved = 0\n",
    "        \n",
    "        \n",
    "    def code(self):\n",
    "        self._num_bugs_solved += 1\n",
    "    \n",
    "    \n",
    "        \n",
    "    #getter\n",
    "    def get_salary(self):\n",
    "        return self._salary \n",
    "    \n",
    "    #setter\n",
    "    def set_salary(self, base_value):\n",
    "        self._salary = self._calculate_salary(base_value)\n",
    "        \n",
    "    \n",
    "    def _calculate_salary(self, base_value):\n",
    "        if self._num_bugs_solved < 10:\n",
    "            return base_value\n",
    "        if self._num_bugs_solved < 100:\n",
    "            return base_value * 2\n",
    "        return base_value * 3"
   ]
  },
  {
   "cell_type": "code",
   "execution_count": 96,
   "id": "bd8c7b70",
   "metadata": {},
   "outputs": [],
   "source": [
    "se = SoftwareEngineer(\"Max\", 25)"
   ]
  },
  {
   "cell_type": "code",
   "execution_count": 97,
   "id": "caf434a5",
   "metadata": {},
   "outputs": [
    {
     "data": {
      "text/plain": [
       "(25, 'Max')"
      ]
     },
     "execution_count": 97,
     "metadata": {},
     "output_type": "execute_result"
    }
   ],
   "source": [
    "se.age, se.name"
   ]
  },
  {
   "cell_type": "code",
   "execution_count": 98,
   "id": "830b39aa",
   "metadata": {},
   "outputs": [],
   "source": [
    "se.set_salary(9000)"
   ]
  },
  {
   "cell_type": "code",
   "execution_count": 99,
   "id": "2ee2317d",
   "metadata": {},
   "outputs": [
    {
     "data": {
      "text/plain": [
       "9000"
      ]
     },
     "execution_count": 99,
     "metadata": {},
     "output_type": "execute_result"
    }
   ],
   "source": [
    "se.get_salary()"
   ]
  },
  {
   "cell_type": "code",
   "execution_count": 100,
   "id": "2ee392ea",
   "metadata": {},
   "outputs": [],
   "source": [
    "for i in range(70):\n",
    "    se.code()"
   ]
  },
  {
   "cell_type": "code",
   "execution_count": 101,
   "id": "20d0e418",
   "metadata": {},
   "outputs": [
    {
     "name": "stdout",
     "output_type": "stream",
     "text": [
      "70\n"
     ]
    }
   ],
   "source": [
    "print(se._num_bugs_solved)"
   ]
  },
  {
   "cell_type": "code",
   "execution_count": 103,
   "id": "8d2e134d",
   "metadata": {},
   "outputs": [],
   "source": [
    "se.set_salary(6000)"
   ]
  },
  {
   "cell_type": "code",
   "execution_count": 104,
   "id": "3862bfd0",
   "metadata": {},
   "outputs": [
    {
     "name": "stdout",
     "output_type": "stream",
     "text": [
      "12000\n"
     ]
    }
   ],
   "source": [
    "print(se.get_salary())"
   ]
  },
  {
   "cell_type": "code",
   "execution_count": null,
   "id": "0fe71cd7",
   "metadata": {},
   "outputs": [],
   "source": [
    "#encapsulation : hiding data process , hiding internal operation"
   ]
  },
  {
   "cell_type": "code",
   "execution_count": 107,
   "id": "f4d9a843",
   "metadata": {},
   "outputs": [],
   "source": [
    "class SoftwareEngineer:\n",
    "    \n",
    "    def __init__(self):\n",
    "        self._salary = None #private sintax\n",
    "    \n",
    "        \n",
    "    @property\n",
    "    def salary(self):\n",
    "        return self._salary \n",
    "    \n",
    "    @salary.setter\n",
    "    def salary(self, value):\n",
    "        self._salary = value\n",
    "        \n",
    "    @salary.deleter\n",
    "    def salary(self, value):\n",
    "        del self._salary "
   ]
  },
  {
   "cell_type": "code",
   "execution_count": 108,
   "id": "723e6edd",
   "metadata": {},
   "outputs": [],
   "source": [
    "se = SoftwareEngineer()"
   ]
  },
  {
   "cell_type": "code",
   "execution_count": 109,
   "id": "e0466a22",
   "metadata": {},
   "outputs": [],
   "source": [
    "se.salary = 6000"
   ]
  },
  {
   "cell_type": "code",
   "execution_count": 110,
   "id": "946c6d57",
   "metadata": {},
   "outputs": [
    {
     "data": {
      "text/plain": [
       "6000"
      ]
     },
     "execution_count": 110,
     "metadata": {},
     "output_type": "execute_result"
    }
   ],
   "source": [
    "se.salary"
   ]
  },
  {
   "cell_type": "code",
   "execution_count": 111,
   "id": "d63a3e8e",
   "metadata": {},
   "outputs": [],
   "source": [
    "#recap\n",
    "#getter -> @property\n",
    "#setter -> @x.setter"
   ]
  },
  {
   "cell_type": "code",
   "execution_count": 114,
   "id": "c33c35d0",
   "metadata": {},
   "outputs": [],
   "source": [
    "a = [i+1 for i in range(5)]"
   ]
  },
  {
   "cell_type": "code",
   "execution_count": 115,
   "id": "96ce1002",
   "metadata": {},
   "outputs": [
    {
     "data": {
      "text/plain": [
       "[1, 2, 3, 4, 5]"
      ]
     },
     "execution_count": 115,
     "metadata": {},
     "output_type": "execute_result"
    }
   ],
   "source": [
    "a"
   ]
  },
  {
   "cell_type": "code",
   "execution_count": 117,
   "id": "454be3e1",
   "metadata": {},
   "outputs": [
    {
     "data": {
      "text/plain": [
       "4"
      ]
     },
     "execution_count": 117,
     "metadata": {},
     "output_type": "execute_result"
    }
   ],
   "source": [
    "a[-2]"
   ]
  },
  {
   "cell_type": "code",
   "execution_count": 122,
   "id": "6b080558",
   "metadata": {},
   "outputs": [],
   "source": [
    "x = [5,9,1,1,2,3,7,1]"
   ]
  },
  {
   "cell_type": "code",
   "execution_count": 123,
   "id": "c1306c96",
   "metadata": {},
   "outputs": [],
   "source": [
    "y = [1,2,2,3,3,2,0,5]"
   ]
  },
  {
   "cell_type": "code",
   "execution_count": 124,
   "id": "dc5a521f",
   "metadata": {},
   "outputs": [],
   "source": [
    "import numpy as np"
   ]
  },
  {
   "cell_type": "code",
   "execution_count": 125,
   "id": "24d226e4",
   "metadata": {},
   "outputs": [
    {
     "data": {
      "text/plain": [
       "array([[ 1.        , -0.63372212],\n",
       "       [-0.63372212,  1.        ]])"
      ]
     },
     "execution_count": 125,
     "metadata": {},
     "output_type": "execute_result"
    }
   ],
   "source": [
    "np.corrcoef(x,y)"
   ]
  },
  {
   "cell_type": "code",
   "execution_count": null,
   "id": "98306b87",
   "metadata": {},
   "outputs": [],
   "source": []
  },
  {
   "cell_type": "code",
   "execution_count": 128,
   "id": "e9c1ae19",
   "metadata": {},
   "outputs": [],
   "source": [
    "def batonPass(friends, time):\n",
    "    # Write your code here\n",
    "    friends = [i+1 for i in range(friends)]\n",
    "    for i in range(time):\n",
    "        if time < len(friends):\n",
    "            return (friends[i], friends[i+1])\n",
    "        else:\n",
    "            return (friends[i-2], friends[i-3])"
   ]
  },
  {
   "cell_type": "code",
   "execution_count": 127,
   "id": "9cb69c13",
   "metadata": {},
   "outputs": [
    {
     "data": {
      "text/plain": [
       "(1, 2)"
      ]
     },
     "execution_count": 127,
     "metadata": {},
     "output_type": "execute_result"
    }
   ],
   "source": [
    "batonPass(5,3)"
   ]
  },
  {
   "cell_type": "code",
   "execution_count": null,
   "id": "fe08b6ab",
   "metadata": {},
   "outputs": [],
   "source": [
    "for i in range(1,len(ans)):\n",
    "    if abs((ans[i]+1)-ans[i-1]) <= k:\n",
    "        ans[i] += 1\n",
    "    elif abs(ans[i]-ans[i-1]) <= k:\n",
    "        pass\n",
    "    elif abs((ans[i]-1)-ans[i-1]) <= k:\n",
    "        ans[i] -= 1\n",
    "    else:\n",
    "        ans[i] += 1\n",
    "        c += 1\n",
    "\n",
    "for _ in range(int(input())):\n",
    "n,k = get_int()\n",
    "s = str(input())[:-1]\n",
    "solve(n,k,s)\n",
    "\n"
   ]
  },
  {
   "cell_type": "code",
   "execution_count": null,
   "id": "c9fa22fe",
   "metadata": {},
   "outputs": [],
   "source": []
  },
  {
   "cell_type": "code",
   "execution_count": null,
   "id": "5cc9aef2",
   "metadata": {},
   "outputs": [],
   "source": []
  },
  {
   "cell_type": "code",
   "execution_count": null,
   "id": "b4fa69ab",
   "metadata": {},
   "outputs": [],
   "source": []
  }
 ],
 "metadata": {
  "kernelspec": {
   "display_name": "Python 3",
   "language": "python",
   "name": "python3"
  },
  "language_info": {
   "codemirror_mode": {
    "name": "ipython",
    "version": 3
   },
   "file_extension": ".py",
   "mimetype": "text/x-python",
   "name": "python",
   "nbconvert_exporter": "python",
   "pygments_lexer": "ipython3",
   "version": "3.8.8"
  }
 },
 "nbformat": 4,
 "nbformat_minor": 5
}
